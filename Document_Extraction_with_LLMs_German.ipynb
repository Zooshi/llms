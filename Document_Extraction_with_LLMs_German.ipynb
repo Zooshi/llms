{
  "nbformat": 4,
  "nbformat_minor": 0,
  "metadata": {
    "colab": {
      "provenance": [],
      "gpuType": "T4",
      "authorship_tag": "ABX9TyNVWWrD+qXdRzr6OBMOYVCy",
      "include_colab_link": true
    },
    "kernelspec": {
      "name": "python3",
      "display_name": "Python 3"
    },
    "language_info": {
      "name": "python"
    },
    "accelerator": "GPU"
  },
  "cells": [
    {
      "cell_type": "markdown",
      "metadata": {
        "id": "view-in-github",
        "colab_type": "text"
      },
      "source": [
        "<a href=\"https://colab.research.google.com/github/Zooshi/llms/blob/main/Document_Extraction_with_LLMs_German.ipynb\" target=\"_parent\"><img src=\"https://colab.research.google.com/assets/colab-badge.svg\" alt=\"Open In Colab\"/></a>"
      ]
    },
    {
      "cell_type": "code",
      "execution_count": 13,
      "metadata": {
        "id": "r6Wb2QJbUegf"
      },
      "outputs": [],
      "source": [
        "#!pip install doctran langchain"
      ]
    },
    {
      "cell_type": "code",
      "source": [
        "import json\n",
        "from langchain.schema import Document\n",
        "from langchain.document_transformers import DoctranPropertyExtractor\n",
        "import os"
      ],
      "metadata": {
        "id": "wulaVEKHUlbH"
      },
      "execution_count": 14,
      "outputs": []
    },
    {
      "cell_type": "code",
      "source": [
        "os.environ[\"OPENAI_API_KEY\"] = \"\""
      ],
      "metadata": {
        "id": "RQ9ZIYzrUoBu"
      },
      "execution_count": 15,
      "outputs": []
    },
    {
      "cell_type": "code",
      "source": [
        "sample_text = \"\"\"Lieber Herr Scholz,\n",
        "\n",
        "ich hoffe, diese E-Mail erreicht Sie in bester Verfassung. Ich möchte Ihnen einen kurzen Überblick über den aktuellen Stand unseres laufenden Projekts geben und Ihnen auch eine Aktualisierung bezüglich zwei unserer Teammitglieder zukommen lassen.\n",
        "\n",
        "Derzeit befinden wir uns im Zeitplan und haben einige wichtige Meilensteine erreicht. Die Entwicklung des Backend-Moduls ist abgeschlossen und wurde erfolgreich in unserer Testumgebung implementiert. Unser Frontend-Team arbeitet intensiv daran, die Benutzeroberfläche zu verfeinern, und wir sind zuversichtlich, dass wir bald eine beeindruckende Nutzererfahrung bieten können.\n",
        "\n",
        "In Bezug auf die Teammitglieder freue ich mich, Ihnen mitteilen zu können, dass Sarah Müller weiterhin ihre exzellente Arbeit leistet. Sie hat die Testphase des Backend-Moduls mit großer Genauigkeit durchgeführt und dabei keine schwerwiegenden Fehler gefunden. Ihre Bemühungen haben dazu beigetragen, dass wir den Zeitplan einhalten können.\n",
        "\n",
        "Leider hat David Schmidt in der letzten Woche mit gesundheitlichen Problemen zu kämpfen gehabt, wodurch sein Fortschritt etwas verlangsamt wurde. Er hat mich jedoch informiert, dass er sich besser fühlt und bald wieder seine volle Arbeitskapazität erreichen wird. Wir sind zuversichtlich, dass er bald wieder aufholen kann.\n",
        "\n",
        "Abschließend möchte ich betonen, dass das Team hochmotiviert ist und hart daran arbeitet, das Projekt erfolgreich abzuschließen. Sollten Sie weitere Informationen oder Updates benötigen, stehe ich Ihnen gerne zur Verfügung.\n",
        "\n",
        "Vielen Dank für Ihre Zeit und Unterstützung.\n",
        "\n",
        "Mit freundlichen Grüßen,\n",
        "Daniel Weikert\n",
        "\"\"\""
      ],
      "metadata": {
        "id": "cM8Ch5ssU9G-"
      },
      "execution_count": 16,
      "outputs": []
    },
    {
      "cell_type": "code",
      "source": [
        "documents = [Document(page_content=sample_text)]\n",
        "properties = [\n",
        "    {\n",
        "        \"name\": \"Kategorie\",\n",
        "        \"description\": \"Welche Art von Email ist das.\",\n",
        "        \"type\": \"string\",\n",
        "        \"enum\": [\"update\", \"aktion\", \"kundenfeedback\", \"sonstige\"],\n",
        "        \"required\": True,\n",
        "    },\n",
        "    {\n",
        "        \"name\": \"Personen\",\n",
        "        \"description\": \"Alle Personen die vorkommen.\",\n",
        "        \"type\": \"array\",\n",
        "        \"items\": {\n",
        "            \"name\": \"Namen\",\n",
        "            \"description\": \"Die Namen der erwähnten Personen.\",\n",
        "            \"type\": \"string\",\n",
        "        },\n",
        "        \"required\": True,\n",
        "    },\n",
        "    {\n",
        "        \"name\": \"eli5\",\n",
        "        \"description\": \"Einfache kurze Erklärung worum es in der Email geht.\",\n",
        "        \"type\": \"string\",\n",
        "        \"required\": True,\n",
        "    },\n",
        "]\n",
        "property_extractor = DoctranPropertyExtractor(properties=properties, openai_api_model=\"gpt-3.5-turbo-0613\")"
      ],
      "metadata": {
        "id": "EvfKuhKYVDtd"
      },
      "execution_count": 17,
      "outputs": []
    },
    {
      "cell_type": "code",
      "source": [
        "extracted_document = await property_extractor.atransform_documents(\n",
        "    documents, properties=properties\n",
        ")"
      ],
      "metadata": {
        "id": "mAjlWkCwVPTe"
      },
      "execution_count": 18,
      "outputs": []
    },
    {
      "cell_type": "code",
      "source": [
        "print(json.dumps(extracted_document[0].metadata, indent=2))"
      ],
      "metadata": {
        "colab": {
          "base_uri": "https://localhost:8080/"
        },
        "id": "jE37dxuhVhHn",
        "outputId": "fc6dc73f-b054-4ede-e6a5-2965b318081f"
      },
      "execution_count": 19,
      "outputs": [
        {
          "output_type": "stream",
          "name": "stdout",
          "text": [
            "{\n",
            "  \"extracted_properties\": {\n",
            "    \"Kategorie\": \"update\",\n",
            "    \"Personen\": [\n",
            "      \"Herr Scholz\",\n",
            "      \"Sarah M\\u00fcller\",\n",
            "      \"David Schmidt\",\n",
            "      \"Daniel Weikert\"\n",
            "    ],\n",
            "    \"eli5\": \"Aktualisierung zum Projektstand und den Teammitgliedern\"\n",
            "  }\n",
            "}\n"
          ]
        }
      ]
    },
    {
      "cell_type": "code",
      "source": [
        "import langchain\n",
        "print(langchain.__version__)"
      ],
      "metadata": {
        "colab": {
          "base_uri": "https://localhost:8080/"
        },
        "id": "71a_1KbXWccI",
        "outputId": "bbfac9cb-94d1-4c26-cc81-24c169fd70c1"
      },
      "execution_count": 11,
      "outputs": [
        {
          "output_type": "stream",
          "name": "stdout",
          "text": [
            "0.0.273\n"
          ]
        }
      ]
    }
  ]
}