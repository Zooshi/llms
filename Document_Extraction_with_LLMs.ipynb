{
  "nbformat": 4,
  "nbformat_minor": 0,
  "metadata": {
    "colab": {
      "provenance": [],
      "gpuType": "T4",
      "authorship_tag": "ABX9TyMEBZ9WmsHjjxnYi6N4bEGb",
      "include_colab_link": true
    },
    "kernelspec": {
      "name": "python3",
      "display_name": "Python 3"
    },
    "language_info": {
      "name": "python"
    },
    "accelerator": "GPU"
  },
  "cells": [
    {
      "cell_type": "markdown",
      "metadata": {
        "id": "view-in-github",
        "colab_type": "text"
      },
      "source": [
        "<a href=\"https://colab.research.google.com/github/Zooshi/llms/blob/main/Document_Extraction_with_LLMs.ipynb\" target=\"_parent\"><img src=\"https://colab.research.google.com/assets/colab-badge.svg\" alt=\"Open In Colab\"/></a>"
      ]
    },
    {
      "cell_type": "code",
      "execution_count": 13,
      "metadata": {
        "id": "r6Wb2QJbUegf"
      },
      "outputs": [],
      "source": [
        "#!pip install doctran langchain"
      ]
    },
    {
      "cell_type": "code",
      "source": [
        "import json\n",
        "from langchain.schema import Document\n",
        "from langchain.document_transformers import DoctranPropertyExtractor\n",
        "import os"
      ],
      "metadata": {
        "id": "wulaVEKHUlbH"
      },
      "execution_count": 2,
      "outputs": []
    },
    {
      "cell_type": "code",
      "source": [
        "os.environ[\"OPENAI_API_KEY\"] = \"\""
      ],
      "metadata": {
        "id": "RQ9ZIYzrUoBu"
      },
      "execution_count": 12,
      "outputs": []
    },
    {
      "cell_type": "code",
      "source": [
        "sample_text = \"\"\"[Generated with ChatGPT]\n",
        "\n",
        "Confidential Document - For Internal Use Only\n",
        "\n",
        "Date: July 1, 2023\n",
        "\n",
        "Subject: Updates and Discussions on Various Topics\n",
        "\n",
        "Dear Team,\n",
        "\n",
        "I hope this email finds you well. In this document, I would like to provide you with some important updates and discuss various topics that require our attention. Please treat the information contained herein as highly confidential.\n",
        "\n",
        "Security and Privacy Measures\n",
        "As part of our ongoing commitment to ensure the security and privacy of our customers' data, we have implemented robust measures across all our systems. We would like to commend John Doe (email: john.doe@example.com) from the IT department for his diligent work in enhancing our network security. Moving forward, we kindly remind everyone to strictly adhere to our data protection policies and guidelines. Additionally, if you come across any potential security risks or incidents, please report them immediately to our dedicated team at security@example.com.\n",
        "\n",
        "HR Updates and Employee Benefits\n",
        "Recently, we welcomed several new team members who have made significant contributions to their respective departments. I would like to recognize Jane Smith (SSN: 049-45-5928) for her outstanding performance in customer service. Jane has consistently received positive feedback from our clients. Furthermore, please remember that the open enrollment period for our employee benefits program is fast approaching. Should you have any questions or require assistance, please contact our HR representative, Michael Johnson (phone: 418-492-3850, email: michael.johnson@example.com).\n",
        "\n",
        "Marketing Initiatives and Campaigns\n",
        "Our marketing team has been actively working on developing new strategies to increase brand awareness and drive customer engagement. We would like to thank Sarah Thompson (phone: 415-555-1234) for her exceptional efforts in managing our social media platforms. Sarah has successfully increased our follower base by 20% in the past month alone. Moreover, please mark your calendars for the upcoming product launch event on July 15th. We encourage all team members to attend and support this exciting milestone for our company.\n",
        "\n",
        "Research and Development Projects\n",
        "In our pursuit of innovation, our research and development department has been working tirelessly on various projects. I would like to acknowledge the exceptional work of David Rodriguez (email: david.rodriguez@example.com) in his role as project lead. David's contributions to the development of our cutting-edge technology have been instrumental. Furthermore, we would like to remind everyone to share their ideas and suggestions for potential new projects during our monthly R&D brainstorming session, scheduled for July 10th.\n",
        "\n",
        "Please treat the information in this document with utmost confidentiality and ensure that it is not shared with unauthorized individuals. If you have any questions or concerns regarding the topics discussed, please do not hesitate to reach out to me directly.\n",
        "\n",
        "Thank you for your attention, and let's continue to work together to achieve our goals.\n",
        "\n",
        "Best regards,\n",
        "\n",
        "Jason Fan\n",
        "Cofounder & CEO\n",
        "Psychic\n",
        "jason@psychic.dev\n",
        "\"\"\""
      ],
      "metadata": {
        "id": "cM8Ch5ssU9G-"
      },
      "execution_count": 4,
      "outputs": []
    },
    {
      "cell_type": "code",
      "source": [
        "documents = [Document(page_content=sample_text)]\n",
        "properties = [\n",
        "    {\n",
        "        \"name\": \"category\",\n",
        "        \"description\": \"What type of email this is.\",\n",
        "        \"type\": \"string\",\n",
        "        \"enum\": [\"update\", \"action_item\", \"customer_feedback\", \"announcement\", \"other\"],\n",
        "        \"required\": True,\n",
        "    },\n",
        "    {\n",
        "        \"name\": \"mentions\",\n",
        "        \"description\": \"A list of all people mentioned in this email.\",\n",
        "        \"type\": \"array\",\n",
        "        \"items\": {\n",
        "            \"name\": \"full_name\",\n",
        "            \"description\": \"The full name of the person mentioned.\",\n",
        "            \"type\": \"string\",\n",
        "        },\n",
        "        \"required\": True,\n",
        "    },\n",
        "    {\n",
        "        \"name\": \"eli5\",\n",
        "        \"description\": \"Explain this email to me like I'm 5 years old.\",\n",
        "        \"type\": \"string\",\n",
        "        \"required\": True,\n",
        "    },\n",
        "]\n",
        "property_extractor = DoctranPropertyExtractor(properties=properties, openai_api_model=\"gpt-3.5-turbo-0613\")"
      ],
      "metadata": {
        "id": "EvfKuhKYVDtd"
      },
      "execution_count": 8,
      "outputs": []
    },
    {
      "cell_type": "code",
      "source": [
        "extracted_document = await property_extractor.atransform_documents(\n",
        "    documents, properties=properties\n",
        ")"
      ],
      "metadata": {
        "id": "mAjlWkCwVPTe"
      },
      "execution_count": 9,
      "outputs": []
    },
    {
      "cell_type": "code",
      "source": [
        "print(json.dumps(extracted_document[0].metadata, indent=2))"
      ],
      "metadata": {
        "colab": {
          "base_uri": "https://localhost:8080/"
        },
        "id": "jE37dxuhVhHn",
        "outputId": "ad7366c6-444b-4643-b1ff-03004b815ee0"
      },
      "execution_count": 10,
      "outputs": [
        {
          "output_type": "stream",
          "name": "stdout",
          "text": [
            "{\n",
            "  \"extracted_properties\": {\n",
            "    \"category\": \"update\",\n",
            "    \"mentions\": [\n",
            "      \"John Doe\",\n",
            "      \"Jane Smith\",\n",
            "      \"Michael Johnson\",\n",
            "      \"Sarah Thompson\",\n",
            "      \"David Rodriguez\"\n",
            "    ],\n",
            "    \"eli5\": \"This email provides updates on security and privacy measures, HR updates and employee benefits, marketing initiatives and campaigns, and research and development projects. It also recognizes individuals who have made significant contributions in their respective areas.\"\n",
            "  }\n",
            "}\n"
          ]
        }
      ]
    },
    {
      "cell_type": "code",
      "source": [
        "import langchain\n",
        "print(langchain.__version__)"
      ],
      "metadata": {
        "colab": {
          "base_uri": "https://localhost:8080/"
        },
        "id": "71a_1KbXWccI",
        "outputId": "bbfac9cb-94d1-4c26-cc81-24c169fd70c1"
      },
      "execution_count": 11,
      "outputs": [
        {
          "output_type": "stream",
          "name": "stdout",
          "text": [
            "0.0.273\n"
          ]
        }
      ]
    }
  ]
}